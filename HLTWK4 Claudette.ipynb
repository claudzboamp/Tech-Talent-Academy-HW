{
 "cells": [
  {
   "cell_type": "markdown",
   "metadata": {},
   "source": [
    "Homework Week 4 Practical \n",
    "\n",
    "1, How many rows and columns are there in your file. \n",
    "2, Print Row 3-8 (using iloc/loc)\n",
    "3, Find the mean number of all inclusive hotels across all destinations \n",
    "4, Find the lowest scoring destination \n",
    "5, Find the highest scoring destination \n",
    "6, Find all the destinations where there are more than 9 all inclusive hotels \n",
    "7, Filter the data by score above 8\n",
    "8, Filter the data score below 2 (I need to know if these destinations should be removed or if there is a problem)"
   ]
  },
  {
   "cell_type": "code",
   "execution_count": 2,
   "metadata": {},
   "outputs": [],
   "source": [
    "import pandas as pd "
   ]
  },
  {
   "cell_type": "code",
   "execution_count": 54,
   "metadata": {},
   "outputs": [
    {
     "data": {
      "text/plain": [
       "(10, 6)"
      ]
     },
     "execution_count": 54,
     "metadata": {},
     "output_type": "execute_result"
    }
   ],
   "source": [
    "vetdata = pd.read_csv(\"vet_data.csv\")\n",
    "vetdata.shape "
   ]
  },
  {
   "cell_type": "code",
   "execution_count": 44,
   "metadata": {},
   "outputs": [
    {
     "name": "stdout",
     "output_type": "stream",
     "text": [
      "    Holiday Destination  FeedbackScore  Average Hotel Star Rating   \\\n",
      "0                   USA            8.5                         5.0   \n",
      "1              Morocco             6.0                         2.6   \n",
      "2                Spain             6.5                         3.7   \n",
      "3             Indonesia            8.0                         3.9   \n",
      "4               Jamaica           10.0                         4.0   \n",
      "5             Barbados            10.0                         4.5   \n",
      "6  United Arab Emirates            7.0                         4.0   \n",
      "7                Greece            8.0                         3.5   \n",
      "8              Portugal            5.0                         3.0   \n",
      "9                 Ghana            7.5                         2.5   \n",
      "\n",
      "   Number of All Inclusive Hotels Most Visited City  Unnamed: 5  \n",
      "0                              30         New York          NaN  \n",
      "1                              15         Marrakesh         NaN  \n",
      "2                              12         Barcelona         NaN  \n",
      "3                               5              Bali         NaN  \n",
      "4                              10       Montego Bay         NaN  \n",
      "5                              10        Bridgetown         NaN  \n",
      "6                              15             Dubai         NaN  \n",
      "7                               7           Athens          NaN  \n",
      "8                               8            Lisbon         NaN  \n",
      "9                               5             Accra         NaN  \n"
     ]
    }
   ],
   "source": [
    "import pandas as pd \n",
    "\n",
    "vetdata = pd.read_csv(\"vet_data.csv\")\n",
    "print(vetdata)"
   ]
  },
  {
   "cell_type": "code",
   "execution_count": 45,
   "metadata": {},
   "outputs": [
    {
     "name": "stdout",
     "output_type": "stream",
     "text": [
      "    Holiday Destination  FeedbackScore  Average Hotel Star Rating   \\\n",
      "3             Indonesia            8.0                         3.9   \n",
      "4               Jamaica           10.0                         4.0   \n",
      "5             Barbados            10.0                         4.5   \n",
      "6  United Arab Emirates            7.0                         4.0   \n",
      "7                Greece            8.0                         3.5   \n",
      "8              Portugal            5.0                         3.0   \n",
      "\n",
      "   Number of All Inclusive Hotels Most Visited City  Unnamed: 5  \n",
      "3                               5              Bali         NaN  \n",
      "4                              10       Montego Bay         NaN  \n",
      "5                              10        Bridgetown         NaN  \n",
      "6                              15             Dubai         NaN  \n",
      "7                               7           Athens          NaN  \n",
      "8                               8            Lisbon         NaN  \n"
     ]
    }
   ],
   "source": [
    "print (vetdata[3:9])"
   ]
  },
  {
   "cell_type": "code",
   "execution_count": 46,
   "metadata": {},
   "outputs": [
    {
     "data": {
      "text/plain": [
       "11.7"
      ]
     },
     "execution_count": 46,
     "metadata": {},
     "output_type": "execute_result"
    }
   ],
   "source": [
    "data = pd.read_csv(\"vet_data.csv\")\n",
    "data [\"Number of All Inclusive Hotels\"].mean ()"
   ]
  },
  {
   "cell_type": "code",
   "execution_count": 47,
   "metadata": {},
   "outputs": [
    {
     "data": {
      "text/plain": [
       "0    False\n",
       "1    False\n",
       "2    False\n",
       "3    False\n",
       "4    False\n",
       "5    False\n",
       "6    False\n",
       "7    False\n",
       "8     True\n",
       "9    False\n",
       "Name: FeedbackScore, dtype: bool"
      ]
     },
     "execution_count": 47,
     "metadata": {},
     "output_type": "execute_result"
    }
   ],
   "source": [
    "data = pd.read_csv(\"vet_data.csv\")\n",
    "data [\"FeedbackScore\"] < 6"
   ]
  },
  {
   "cell_type": "code",
   "execution_count": 48,
   "metadata": {},
   "outputs": [
    {
     "data": {
      "text/plain": [
       "0    False\n",
       "1    False\n",
       "2    False\n",
       "3    False\n",
       "4     True\n",
       "5     True\n",
       "6    False\n",
       "7    False\n",
       "8    False\n",
       "9    False\n",
       "Name: FeedbackScore, dtype: bool"
      ]
     },
     "execution_count": 48,
     "metadata": {},
     "output_type": "execute_result"
    }
   ],
   "source": [
    "data =pd.read_csv(\"vet_data.csv\")\n",
    "data [\"FeedbackScore\"] >9\n",
    "\n"
   ]
  },
  {
   "cell_type": "code",
   "execution_count": 49,
   "metadata": {},
   "outputs": [
    {
     "data": {
      "text/plain": [
       "0     True\n",
       "1     True\n",
       "2     True\n",
       "3    False\n",
       "4     True\n",
       "5     True\n",
       "6     True\n",
       "7    False\n",
       "8    False\n",
       "9    False\n",
       "Name: Number of All Inclusive Hotels, dtype: bool"
      ]
     },
     "execution_count": 49,
     "metadata": {},
     "output_type": "execute_result"
    }
   ],
   "source": [
    "data =pd.read_csv(\"vet_data.csv\")\n",
    "data [\"Number of All Inclusive Hotels\"] >9 \n",
    "\n"
   ]
  },
  {
   "cell_type": "code",
   "execution_count": 50,
   "metadata": {},
   "outputs": [
    {
     "data": {
      "text/plain": [
       "0     True\n",
       "1    False\n",
       "2    False\n",
       "3    False\n",
       "4     True\n",
       "5     True\n",
       "6    False\n",
       "7    False\n",
       "8    False\n",
       "9    False\n",
       "Name: FeedbackScore, dtype: bool"
      ]
     },
     "execution_count": 50,
     "metadata": {},
     "output_type": "execute_result"
    }
   ],
   "source": [
    "import pandas as pd \n",
    "data = pd.read_csv(\"vet_data.csv\")\n",
    "data [\"FeedbackScore\"] >8"
   ]
  },
  {
   "cell_type": "code",
   "execution_count": 51,
   "metadata": {},
   "outputs": [
    {
     "data": {
      "text/html": [
       "<div>\n",
       "<style scoped>\n",
       "    .dataframe tbody tr th:only-of-type {\n",
       "        vertical-align: middle;\n",
       "    }\n",
       "\n",
       "    .dataframe tbody tr th {\n",
       "        vertical-align: top;\n",
       "    }\n",
       "\n",
       "    .dataframe thead th {\n",
       "        text-align: right;\n",
       "    }\n",
       "</style>\n",
       "<table border=\"1\" class=\"dataframe\">\n",
       "  <thead>\n",
       "    <tr style=\"text-align: right;\">\n",
       "      <th></th>\n",
       "      <th>Holiday Destination</th>\n",
       "      <th>FeedbackScore</th>\n",
       "      <th>Average Hotel Star Rating</th>\n",
       "      <th>Number of All Inclusive Hotels</th>\n",
       "      <th>Most Visited City</th>\n",
       "      <th>Unnamed: 5</th>\n",
       "    </tr>\n",
       "  </thead>\n",
       "  <tbody>\n",
       "    <tr>\n",
       "      <th>0</th>\n",
       "      <td>USA</td>\n",
       "      <td>8.5</td>\n",
       "      <td>5.0</td>\n",
       "      <td>30</td>\n",
       "      <td>New York</td>\n",
       "      <td>NaN</td>\n",
       "    </tr>\n",
       "    <tr>\n",
       "      <th>1</th>\n",
       "      <td>Morocco</td>\n",
       "      <td>6.0</td>\n",
       "      <td>2.6</td>\n",
       "      <td>15</td>\n",
       "      <td>Marrakesh</td>\n",
       "      <td>NaN</td>\n",
       "    </tr>\n",
       "    <tr>\n",
       "      <th>2</th>\n",
       "      <td>Spain</td>\n",
       "      <td>6.5</td>\n",
       "      <td>3.7</td>\n",
       "      <td>12</td>\n",
       "      <td>Barcelona</td>\n",
       "      <td>NaN</td>\n",
       "    </tr>\n",
       "    <tr>\n",
       "      <th>3</th>\n",
       "      <td>Indonesia</td>\n",
       "      <td>8.0</td>\n",
       "      <td>3.9</td>\n",
       "      <td>5</td>\n",
       "      <td>Bali</td>\n",
       "      <td>NaN</td>\n",
       "    </tr>\n",
       "    <tr>\n",
       "      <th>4</th>\n",
       "      <td>Jamaica</td>\n",
       "      <td>10.0</td>\n",
       "      <td>4.0</td>\n",
       "      <td>10</td>\n",
       "      <td>Montego Bay</td>\n",
       "      <td>NaN</td>\n",
       "    </tr>\n",
       "  </tbody>\n",
       "</table>\n",
       "</div>"
      ],
      "text/plain": [
       "  Holiday Destination  FeedbackScore  Average Hotel Star Rating   \\\n",
       "0                 USA            8.5                         5.0   \n",
       "1            Morocco             6.0                         2.6   \n",
       "2              Spain             6.5                         3.7   \n",
       "3           Indonesia            8.0                         3.9   \n",
       "4             Jamaica           10.0                         4.0   \n",
       "\n",
       "   Number of All Inclusive Hotels Most Visited City  Unnamed: 5  \n",
       "0                              30         New York          NaN  \n",
       "1                              15         Marrakesh         NaN  \n",
       "2                              12         Barcelona         NaN  \n",
       "3                               5              Bali         NaN  \n",
       "4                              10       Montego Bay         NaN  "
      ]
     },
     "execution_count": 51,
     "metadata": {},
     "output_type": "execute_result"
    }
   ],
   "source": [
    "import pandas as pd \n",
    "data= pd.read_csv(\"vet_data.csv\")\n",
    "vetdata.head()"
   ]
  },
  {
   "cell_type": "code",
   "execution_count": 40,
   "metadata": {},
   "outputs": [
    {
     "data": {
      "text/plain": [
       "Index(['Holiday Destination', 'Feedback Score', 'Average Hotel Star Rating ',\n",
       "       'Number of All Inclusive Hotels', 'Most Visited City', 'Unnamed: 5'],\n",
       "      dtype='object')"
      ]
     },
     "execution_count": 40,
     "metadata": {},
     "output_type": "execute_result"
    }
   ],
   "source": [
    "vetdata.columns"
   ]
  },
  {
   "cell_type": "code",
   "execution_count": 55,
   "metadata": {},
   "outputs": [
    {
     "data": {
      "text/plain": [
       "array([ 8.5,  6. ,  6.5,  8. , 10. ,  7. ,  5. ,  7.5])"
      ]
     },
     "execution_count": 55,
     "metadata": {},
     "output_type": "execute_result"
    }
   ],
   "source": [
    "vetdata.FeedbackScore.unique()"
   ]
  },
  {
   "cell_type": "code",
   "execution_count": 58,
   "metadata": {},
   "outputs": [
    {
     "data": {
      "text/plain": [
       "0     True\n",
       "1    False\n",
       "2    False\n",
       "3    False\n",
       "4     True\n",
       "5     True\n",
       "6    False\n",
       "7    False\n",
       "8    False\n",
       "9    False\n",
       "Name: FeedbackScore, dtype: bool"
      ]
     },
     "execution_count": 58,
     "metadata": {},
     "output_type": "execute_result"
    }
   ],
   "source": [
    "import pandas as pd \n",
    "data =pd.read_csv(\"vet_data.csv\")\n",
    "data[\"FeedbackScore\"] >8\n"
   ]
  },
  {
   "cell_type": "code",
   "execution_count": 61,
   "metadata": {},
   "outputs": [
    {
     "data": {
      "text/html": [
       "<div>\n",
       "<style scoped>\n",
       "    .dataframe tbody tr th:only-of-type {\n",
       "        vertical-align: middle;\n",
       "    }\n",
       "\n",
       "    .dataframe tbody tr th {\n",
       "        vertical-align: top;\n",
       "    }\n",
       "\n",
       "    .dataframe thead th {\n",
       "        text-align: right;\n",
       "    }\n",
       "</style>\n",
       "<table border=\"1\" class=\"dataframe\">\n",
       "  <thead>\n",
       "    <tr style=\"text-align: right;\">\n",
       "      <th></th>\n",
       "      <th>Holiday Destination</th>\n",
       "      <th>FeedbackScore</th>\n",
       "      <th>Average Hotel Star Rating</th>\n",
       "      <th>Number of All Inclusive Hotels</th>\n",
       "      <th>Most Visited City</th>\n",
       "      <th>Unnamed: 5</th>\n",
       "    </tr>\n",
       "  </thead>\n",
       "  <tbody>\n",
       "    <tr>\n",
       "      <th>0</th>\n",
       "      <td>USA</td>\n",
       "      <td>8.5</td>\n",
       "      <td>5.0</td>\n",
       "      <td>30</td>\n",
       "      <td>New York</td>\n",
       "      <td>NaN</td>\n",
       "    </tr>\n",
       "    <tr>\n",
       "      <th>4</th>\n",
       "      <td>Jamaica</td>\n",
       "      <td>10.0</td>\n",
       "      <td>4.0</td>\n",
       "      <td>10</td>\n",
       "      <td>Montego Bay</td>\n",
       "      <td>NaN</td>\n",
       "    </tr>\n",
       "    <tr>\n",
       "      <th>5</th>\n",
       "      <td>Barbados</td>\n",
       "      <td>10.0</td>\n",
       "      <td>4.5</td>\n",
       "      <td>10</td>\n",
       "      <td>Bridgetown</td>\n",
       "      <td>NaN</td>\n",
       "    </tr>\n",
       "  </tbody>\n",
       "</table>\n",
       "</div>"
      ],
      "text/plain": [
       "  Holiday Destination  FeedbackScore  Average Hotel Star Rating   \\\n",
       "0                 USA            8.5                         5.0   \n",
       "4             Jamaica           10.0                         4.0   \n",
       "5           Barbados            10.0                         4.5   \n",
       "\n",
       "   Number of All Inclusive Hotels Most Visited City  Unnamed: 5  \n",
       "0                              30         New York          NaN  \n",
       "4                              10       Montego Bay         NaN  \n",
       "5                              10        Bridgetown         NaN  "
      ]
     },
     "execution_count": 61,
     "metadata": {},
     "output_type": "execute_result"
    }
   ],
   "source": [
    "import pandas as pd \n",
    "data =pd.read_csv(\"vet_data.csv\")\n",
    "data [(data.FeedbackScore >8)]"
   ]
  },
  {
   "cell_type": "code",
   "execution_count": 28,
   "metadata": {},
   "outputs": [
    {
     "data": {
      "text/plain": [
       "0    False\n",
       "1    False\n",
       "2    False\n",
       "3    False\n",
       "4    False\n",
       "5    False\n",
       "6    False\n",
       "7    False\n",
       "8    False\n",
       "9    False\n",
       "Name: Feedback Score, dtype: bool"
      ]
     },
     "execution_count": 28,
     "metadata": {},
     "output_type": "execute_result"
    }
   ],
   "source": [
    "import pandas as pd \n",
    "data =pd.read_csv(\"vet_data.csv\")\n",
    "data [\"Feedback Score\"] <2"
   ]
  },
  {
   "cell_type": "code",
   "execution_count": 62,
   "metadata": {},
   "outputs": [
    {
     "data": {
      "text/html": [
       "<div>\n",
       "<style scoped>\n",
       "    .dataframe tbody tr th:only-of-type {\n",
       "        vertical-align: middle;\n",
       "    }\n",
       "\n",
       "    .dataframe tbody tr th {\n",
       "        vertical-align: top;\n",
       "    }\n",
       "\n",
       "    .dataframe thead th {\n",
       "        text-align: right;\n",
       "    }\n",
       "</style>\n",
       "<table border=\"1\" class=\"dataframe\">\n",
       "  <thead>\n",
       "    <tr style=\"text-align: right;\">\n",
       "      <th></th>\n",
       "      <th>Holiday Destination</th>\n",
       "      <th>FeedbackScore</th>\n",
       "      <th>Average Hotel Star Rating</th>\n",
       "      <th>Number of All Inclusive Hotels</th>\n",
       "      <th>Most Visited City</th>\n",
       "      <th>Unnamed: 5</th>\n",
       "    </tr>\n",
       "  </thead>\n",
       "  <tbody>\n",
       "  </tbody>\n",
       "</table>\n",
       "</div>"
      ],
      "text/plain": [
       "Empty DataFrame\n",
       "Columns: [Holiday Destination, FeedbackScore, Average Hotel Star Rating , Number of All Inclusive Hotels, Most Visited City, Unnamed: 5]\n",
       "Index: []"
      ]
     },
     "execution_count": 62,
     "metadata": {},
     "output_type": "execute_result"
    }
   ],
   "source": [
    "import pandas as pd \n",
    "data =pd.read_csv(\"vet_data.csv\")\n",
    "data [(data.FeedbackScore <2)]"
   ]
  },
  {
   "cell_type": "markdown",
   "metadata": {},
   "source": [
    "Extension Task \n",
    "1, Is there a correlation between the number of all inclusive hotels and score "
   ]
  },
  {
   "cell_type": "code",
   "execution_count": 24,
   "metadata": {},
   "outputs": [
    {
     "ename": "TypeError",
     "evalue": "DataFrame.__init__() got multiple values for argument 'columns'",
     "output_type": "error",
     "traceback": [
      "\u001b[1;31m---------------------------------------------------------------------------\u001b[0m",
      "\u001b[1;31mTypeError\u001b[0m                                 Traceback (most recent call last)",
      "\u001b[1;32mC:\\Users\\CLAUDE~1\\AppData\\Local\\Temp/ipykernel_12668/868210542.py\u001b[0m in \u001b[0;36m<module>\u001b[1;34m\u001b[0m\n\u001b[0;32m      2\u001b[0m \u001b[1;32mimport\u001b[0m \u001b[0mpandas\u001b[0m \u001b[1;32mas\u001b[0m \u001b[0mpd\u001b[0m\u001b[1;33m\u001b[0m\u001b[1;33m\u001b[0m\u001b[0m\n\u001b[0;32m      3\u001b[0m \u001b[1;33m\u001b[0m\u001b[0m\n\u001b[1;32m----> 4\u001b[1;33m df= pd.DataFrame([[30,8.5]],[15,6],[12,6.5],[5,8.0],[10,10],[10,10],[15,7],[7,8],[8,5],[5,7.5],\n\u001b[0m\u001b[0;32m      5\u001b[0m columns=['Number of All Inclusive Hotels', 'FeedbackScore'])\n\u001b[0;32m      6\u001b[0m \u001b[1;33m\u001b[0m\u001b[0m\n",
      "\u001b[1;31mTypeError\u001b[0m: DataFrame.__init__() got multiple values for argument 'columns'"
     ]
    }
   ],
   "source": [
    "import numpy as np\n",
    "import pandas as pd \n",
    "\n",
    "df= pd.DataFrame([[30,8.5]],[15,6],[12,6.5],[5,8.0],[10,10],[10,10],[15,7],[7,8],[8,5],[5,7.5],\n",
    "columns=['Number of All Inclusive Hotels', 'FeedbackScore'])\n",
    "\n",
    "print(df) \n",
    "\n",
    "print(df)[['Number of All Inclusive Hotels', 'FeedbackScore']].corr()"
   ]
  },
  {
   "cell_type": "code",
   "execution_count": 13,
   "metadata": {},
   "outputs": [
    {
     "data": {
      "image/png": "[encoded data removed]",
      "text/plain": [
       "<Figure size 432x288 with 1 Axes>"
      ]
     },
     "metadata": {
      "needs_background": "light"
     },
     "output_type": "display_data"
    }
   ],
   "source": [
    "data =pd.read_csv(\"vet_data.csv\") \n",
    "\n",
    "import matplotlib.pyplot as plt\n",
    "\n",
    "data.plot(x ='Number of All Inclusive Hotels', y='FeedbackScore', kind='scatter')\n",
    "plt.show()"
   ]
  },
  {
   "cell_type": "markdown",
   "metadata": {},
   "source": [
    "2, Create a data visualisation diagram to show destination and highest scores"
   ]
  },
  {
   "cell_type": "code",
   "execution_count": 14,
   "metadata": {},
   "outputs": [
    {
     "data": {
      "image/png": "[encoded data removed]",
      "text/plain": [
       "<Figure size 432x288 with 1 Axes>"
      ]
     },
     "metadata": {},
     "output_type": "display_data"
    }
   ],
   "source": [
    "data =pd.read_csv(\"vet_data.csv\") \n",
    "\n",
    "import matplotlib.pyplot as plt\n",
    "\n",
    "data.plot(x ='Holiday Desination', y='FeedbackScore', kind='pie')\n",
    "plt.show()"
   ]
  },
  {
   "cell_type": "code",
   "execution_count": 17,
   "metadata": {},
   "outputs": [
    {
     "data": {
      "image/png": "[encoded data removed]",
      "text/plain": [
       "<Figure size 432x288 with 1 Axes>"
      ]
     },
     "metadata": {
      "needs_background": "light"
     },
     "output_type": "display_data"
    }
   ],
   "source": [
    "data =pd.read_csv(\"vet_data.csv\") \n",
    "\n",
    "import matplotlib.pyplot as plt\n",
    "\n",
    "data.plot(x ='Holiday Destination', y='FeedbackScore', kind='bar')\n",
    "plt.show()"
   ]
  }
 ],
 "metadata": {
  "interpreter": {
   "hash": "5ee4d5968e79330492f658aef13e8d38fdb9d3c46ea14c0f6da203416c7c4de0"
  },
  "kernelspec": {
   "display_name": "Python 3.10.0 64-bit",
   "language": "python",
   "name": "python3"
  },
  "language_info": {
   "codemirror_mode": {
    "name": "ipython",
    "version": 3
   },
   "file_extension": ".py",
   "mimetype": "text/x-python",
   "name": "python",
   "nbconvert_exporter": "python",
   "pygments_lexer": "ipython3",
   "version": "3.10.0"
  },
  "orig_nbformat": 4
 },
 "nbformat": 4,
 "nbformat_minor": 2
}
