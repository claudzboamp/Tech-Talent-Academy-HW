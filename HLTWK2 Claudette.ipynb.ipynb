{
 "cells": [
  {
   "cell_type": "markdown",
   "metadata": {},
   "source": [
    "Task 1: Create your own diagram, a subject of your own choice, Example: Fast food and convert it into code. "
   ]
  },
  {
   "cell_type": "code",
   "execution_count": 2,
   "metadata": {},
   "outputs": [
    {
     "data": {
      "text/plain": [
       "'Chicken Burger '"
      ]
     },
     "execution_count": 2,
     "metadata": {},
     "output_type": "execute_result"
    }
   ],
   "source": [
    "input (\"order a burger\")"
   ]
  },
  {
   "cell_type": "code",
   "execution_count": 3,
   "metadata": {},
   "outputs": [
    {
     "data": {
      "text/plain": [
       "'Yes '"
      ]
     },
     "execution_count": 3,
     "metadata": {},
     "output_type": "execute_result"
    }
   ],
   "source": [
    "input (\"want chips?\")"
   ]
  },
  {
   "cell_type": "code",
   "execution_count": 4,
   "metadata": {},
   "outputs": [
    {
     "name": "stdout",
     "output_type": "stream",
     "text": [
      "order chips\n"
     ]
    }
   ],
   "source": [
    "print(\"order chips\")"
   ]
  },
  {
   "cell_type": "code",
   "execution_count": 5,
   "metadata": {},
   "outputs": [
    {
     "data": {
      "text/plain": [
       "'no'"
      ]
     },
     "execution_count": 5,
     "metadata": {},
     "output_type": "execute_result"
    }
   ],
   "source": [
    "input(\"order drink?\")"
   ]
  },
  {
   "cell_type": "code",
   "execution_count": 6,
   "metadata": {},
   "outputs": [
    {
     "name": "stdout",
     "output_type": "stream",
     "text": [
      "pay cashier\n"
     ]
    }
   ],
   "source": [
    "print (\"pay cashier\")"
   ]
  },
  {
   "cell_type": "markdown",
   "metadata": {},
   "source": [
    "Task 2\n",
    "As an extension to the motorbike task that costs £2000 and loses 10% of its value every year. Set up a function that performs the calculation by passing in parameters. Then using a loop, print the value of the bike every following year until it falls below £1000."
   ]
  },
  {
   "cell_type": "code",
   "execution_count": 42,
   "metadata": {},
   "outputs": [
    {
     "name": "stdout",
     "output_type": "stream",
     "text": [
      "1800.0\n",
      "2022\n",
      "Bike price is 2000 in year: 2021\n",
      "Bike price is 1800.0 in year: 2022\n",
      "Bike price is 1620.0 in year: 2023\n",
      "Bike price is 1458.0 in year: 2024\n",
      "Bike price is 1312.2 in year: 2025\n",
      "Bike price is 1180.98 in year: 2026\n",
      "Bike price is 1062.882 in year: 2027\n"
     ]
    }
   ],
   "source": [
    "bike_price = 2000\n",
    "year      = 2021\n",
    "\n",
    "def calculate_depreciation(bike_price, year):\n",
    "    while bike_price > 1000:\n",
    "        print(\"Bike price is {price} in year: {year}\".format(price=bike_price, year=year))\n",
    "        bike_price *=.9\n",
    "        year +=1\n",
    "    \n",
    "calculate_depreciation(bike_price, year)\n"
   ]
  },
  {
   "cell_type": "markdown",
   "metadata": {},
   "source": [
    "Task 3\n",
    "Write a program which will ask for two numbers from a user. Then offer an option menu to the user giving them a choice of maths operators. Once the user has selected which operator they wish to use, perform the calculation by using a procedure and passing parameters."
   ]
  },
  {
   "cell_type": "code",
   "execution_count": 29,
   "metadata": {},
   "outputs": [
    {
     "data": {
      "text/plain": [
       "'4'"
      ]
     },
     "execution_count": 29,
     "metadata": {},
     "output_type": "execute_result"
    }
   ],
   "source": [
    "input(\"pick a number\")"
   ]
  },
  {
   "cell_type": "code",
   "execution_count": 30,
   "metadata": {},
   "outputs": [
    {
     "data": {
      "text/plain": [
       "'8'"
      ]
     },
     "execution_count": 30,
     "metadata": {},
     "output_type": "execute_result"
    }
   ],
   "source": [
    "input(\"pick a second number\")"
   ]
  },
  {
   "cell_type": "code",
   "execution_count": 32,
   "metadata": {},
   "outputs": [],
   "source": [
    "sign = input(\"Please enter an operator choice (+, -, /, *, **, %, //): \")"
   ]
  },
  {
   "cell_type": "code",
   "execution_count": 51,
   "metadata": {},
   "outputs": [],
   "source": [
    "number1= 4 \n",
    "number2= 8"
   ]
  },
  {
   "cell_type": "code",
   "execution_count": 49,
   "metadata": {},
   "outputs": [],
   "source": [
    "def calculator(number1,number2): \n",
    "    sign =input (\"Please type the operator choice(+, -, /, *, **, %, //): \")\n"
   ]
  },
  {
   "cell_type": "code",
   "execution_count": 52,
   "metadata": {},
   "outputs": [
    {
     "name": "stdout",
     "output_type": "stream",
     "text": [
      "12\n"
     ]
    }
   ],
   "source": [
    "\n",
    "    if sign ==  \"+\":\n",
    "        print(number1 + number2) \n",
    "    elif sign == \"-\":\n",
    "        print(number1 - number2)\n",
    "    elif sign == \"/\":\n",
    "        print(number1 / number2)\n",
    "    elif sign == \"*\":\n",
    "        print(number1 * number2)\n",
    "    elif sign == \"**\":\n",
    "        print(number1 ** number2)\n",
    "    elif sign == \"%\":\n",
    "        print(number1 % number2)\n",
    "    elif sign == \"//\":\n",
    "        print(number1 // number2)\n",
    "    else:\n",
    "        print(\"An appropriate operator was not selected\")"
   ]
  },
  {
   "cell_type": "markdown",
   "metadata": {},
   "source": []
  },
  {
   "cell_type": "code",
   "execution_count": 53,
   "metadata": {},
   "outputs": [
    {
     "name": "stdout",
     "output_type": "stream",
     "text": [
      "Hello, please enter two numbers you would like to calculate\n"
     ]
    }
   ],
   "source": [
    "print(\"Hello, please enter two numbers you would like to calculate\")\n",
    "\n",
    "number1=int(input(\"Please enter your first number\"))  \n",
    "number2=int(input(\"Please enter your seond number\"))"
   ]
  },
  {
   "cell_type": "code",
   "execution_count": 58,
   "metadata": {},
   "outputs": [],
   "source": [
    "calculator(number1,number2)"
   ]
  }
 ],
 "metadata": {
  "interpreter": {
   "hash": "5ee4d5968e79330492f658aef13e8d38fdb9d3c46ea14c0f6da203416c7c4de0"
  },
  "kernelspec": {
   "display_name": "Python 3.10.0 64-bit",
   "language": "python",
   "name": "python3"
  },
  "language_info": {
   "codemirror_mode": {
    "name": "ipython",
    "version": 3
   },
   "file_extension": ".py",
   "mimetype": "text/x-python",
   "name": "python",
   "nbconvert_exporter": "python",
   "pygments_lexer": "ipython3",
   "version": "3.10.0"
  },
  "orig_nbformat": 4
 },
 "nbformat": 4,
 "nbformat_minor": 2
}
